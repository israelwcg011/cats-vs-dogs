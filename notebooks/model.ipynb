{
 "cells": [
  {
   "cell_type": "markdown",
   "id": "40fd1439-6c8e-4e71-b30c-ee88a4b4a035",
   "metadata": {},
   "source": [
    "# Libraries"
   ]
  },
  {
   "cell_type": "code",
   "execution_count": 3,
   "id": "e76f5807-d158-4f01-8cc5-3f03a30a246b",
   "metadata": {},
   "outputs": [],
   "source": [
    "import numpy as np\n",
    "import pandas as pd\n",
    "import tensorflow as tf\n",
    "from keras.preprocessing.image import ImageDataGenerator,load_img\n",
    "from tensorflow.keras.utils import to_categorical\n",
    "from sklearn.model_selection import train_test_split\n",
    "import matplotlib.pyplot as plt\n",
    "import random\n",
    "import os"
   ]
  },
  {
   "cell_type": "markdown",
   "id": "a30c16cf-de8c-4e73-bc50-6a73b5d32b05",
   "metadata": {},
   "source": [
    "# --------------------------------"
   ]
  },
  {
   "cell_type": "code",
   "execution_count": 4,
   "id": "23ffacb1-abb6-40da-88bb-e3bbafc28b2f",
   "metadata": {},
   "outputs": [],
   "source": [
    "input_shape = (4, 28, 28, 3)"
   ]
  },
  {
   "cell_type": "code",
   "execution_count": 5,
   "id": "1ef34e94-2977-4d3d-bc3b-1916f100bbb0",
   "metadata": {},
   "outputs": [],
   "source": [
    "x = tf.random.normal(input_shape)"
   ]
  },
  {
   "cell_type": "code",
   "execution_count": 11,
   "id": "479de16c-5bc8-4b7c-b35f-0dca98bd9ae5",
   "metadata": {},
   "outputs": [],
   "source": [
    "y = tf.keras.layers.Conv2D(\n",
    "    2,\n",
    "    3,\n",
    "    activation = \"relu\",\n",
    "    input_shape = input_shape[1:]\n",
    ")(x)"
   ]
  },
  {
   "cell_type": "code",
   "execution_count": 12,
   "id": "9d07c378-2394-4521-a51e-af139614e2b3",
   "metadata": {},
   "outputs": [
    {
     "data": {
      "text/plain": [
       "TensorShape([4, 26, 26, 2])"
      ]
     },
     "execution_count": 12,
     "metadata": {},
     "output_type": "execute_result"
    }
   ],
   "source": []
  },
  {
   "cell_type": "code",
   "execution_count": null,
   "id": "74048ccf-8210-4396-87fa-69de85804d29",
   "metadata": {},
   "outputs": [],
   "source": []
  }
 ],
 "metadata": {
  "kernelspec": {
   "display_name": "venv-dogs-vs-cats",
   "language": "python",
   "name": "venv-dogs-vs-cats"
  },
  "language_info": {
   "codemirror_mode": {
    "name": "ipython",
    "version": 3
   },
   "file_extension": ".py",
   "mimetype": "text/x-python",
   "name": "python",
   "nbconvert_exporter": "python",
   "pygments_lexer": "ipython3",
   "version": "3.7.7"
  }
 },
 "nbformat": 4,
 "nbformat_minor": 5
}
