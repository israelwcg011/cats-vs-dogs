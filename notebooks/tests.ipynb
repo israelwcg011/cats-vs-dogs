{
 "cells": [
  {
   "cell_type": "code",
   "execution_count": 1,
   "id": "5b5d0970-342c-43e9-ac89-70a0723fe22d",
   "metadata": {},
   "outputs": [],
   "source": [
    "import numpy as np\n",
    "import tensorflow as tf\n",
    "from keras.layers import Conv2D"
   ]
  },
  {
   "cell_type": "code",
   "execution_count": 9,
   "id": "d1652e1a-d25d-4360-bc61-a49c1264ef90",
   "metadata": {},
   "outputs": [],
   "source": [
    "def convolution2d(image, kernel, bias):\n",
    "    m, n = kernel.shape\n",
    "    if (m == n):\n",
    "        y, x = image.shape\n",
    "        y = y - m + 1\n",
    "        x = x - m + 1\n",
    "        new_image = np.zeros((y,x))\n",
    "        for i in range(y):\n",
    "            for j in range(x):\n",
    "                new_image[i][j] = np.sum(image[i:i+m, j:j+m]*kernel) + bias\n",
    "    return new_image"
   ]
  },
  {
   "cell_type": "code",
   "execution_count": 10,
   "id": "44b91e34-fa90-41f2-b857-803ef0ec997d",
   "metadata": {},
   "outputs": [],
   "source": [
    "img = np.array([[2, 3, 5, 7], [4, 1, 9, 2], [10, 2, 0, 1], [9, 6, 2, 8]])"
   ]
  },
  {
   "cell_type": "code",
   "execution_count": 12,
   "id": "d06dadbe-5033-483a-9953-c65a0d49f659",
   "metadata": {},
   "outputs": [],
   "source": [
    "k = np.array([[0, -1, 0], [-1, 4, -1], [0, -1, 0]])"
   ]
  },
  {
   "cell_type": "code",
   "execution_count": 14,
   "id": "de4d0011-e3f6-49ac-b834-c13e2252d1e8",
   "metadata": {},
   "outputs": [
    {
     "data": {
      "text/plain": [
       "array([[-14.,  28.],\n",
       "       [ -9., -14.]])"
      ]
     },
     "execution_count": 14,
     "metadata": {},
     "output_type": "execute_result"
    }
   ],
   "source": [
    "convolution2d(img, k, 0)"
   ]
  }
 ],
 "metadata": {
  "kernelspec": {
   "display_name": "venv-dogs-vs-cats",
   "language": "python",
   "name": "venv-dogs-vs-cats"
  },
  "language_info": {
   "codemirror_mode": {
    "name": "ipython",
    "version": 3
   },
   "file_extension": ".py",
   "mimetype": "text/x-python",
   "name": "python",
   "nbconvert_exporter": "python",
   "pygments_lexer": "ipython3",
   "version": "3.7.7"
  }
 },
 "nbformat": 4,
 "nbformat_minor": 5
}
