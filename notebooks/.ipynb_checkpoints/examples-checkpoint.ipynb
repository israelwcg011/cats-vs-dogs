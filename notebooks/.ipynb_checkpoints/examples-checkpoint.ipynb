{
 "cells": [
  {
   "cell_type": "markdown",
   "id": "4f56c17b-76f8-4eec-bae9-1f249d102f5c",
   "metadata": {},
   "source": [
    "# Data pre-processing and data augmentation with keras"
   ]
  },
  {
   "cell_type": "code",
   "execution_count": 1,
   "id": "354476a5-1208-4397-9a6c-55e5a252758c",
   "metadata": {},
   "outputs": [],
   "source": [
    "from keras.preprocessing.image import ImageDataGenerator\n",
    "from keras.preprocessing.image import array_to_img, img_to_array, load_img\n",
    "import glob\n",
    "import pandas as pd\n",
    "import numpy as np"
   ]
  },
  {
   "cell_type": "markdown",
   "id": "34f01ec8-8d7e-4bc6-b639-ab13cfcf2a9f",
   "metadata": {},
   "source": [
    "# Prepare dataframe"
   ]
  },
  {
   "cell_type": "code",
   "execution_count": 2,
   "id": "c85706e8-1e77-42e1-aeac-dacad2bcb71e",
   "metadata": {},
   "outputs": [],
   "source": [
    "files = glob.glob(\"../datasets/example/*.jpg\")"
   ]
  },
  {
   "cell_type": "code",
   "execution_count": 3,
   "id": "2cbd08ee-f281-4c89-a90b-4aa58093db26",
   "metadata": {},
   "outputs": [],
   "source": [
    "file_name = []\n",
    "label = []\n",
    "\n",
    "for file in files:\n",
    "    file_name.append(file)\n",
    "    if \"cat\" in file:\n",
    "        label.append(\"cat\")\n",
    "    elif \"dog\" in file:\n",
    "        label.append(\"dog\")"
   ]
  },
  {
   "cell_type": "code",
   "execution_count": 4,
   "id": "799d4918-dd82-4f83-ae47-5c2be2b65d8a",
   "metadata": {},
   "outputs": [],
   "source": [
    "data = {\"file name\": file_name, \"label\": label}"
   ]
  },
  {
   "cell_type": "code",
   "execution_count": 5,
   "id": "6ae1f552-3ac5-4f1e-a1af-32f7bcb09a3e",
   "metadata": {},
   "outputs": [],
   "source": [
    "df = pd.DataFrame.from_dict(data)"
   ]
  },
  {
   "cell_type": "markdown",
   "id": "0c9fe213-9f75-4bd3-bb69-e2a6e7004314",
   "metadata": {},
   "source": [
    "# Prepare data from dataframe"
   ]
  },
  {
   "cell_type": "code",
   "execution_count": 8,
   "id": "ab40cafb-6ebe-4b04-9b18-2ed68e03a094",
   "metadata": {},
   "outputs": [
    {
     "data": {
      "text/html": [
       "<div>\n",
       "<style scoped>\n",
       "    .dataframe tbody tr th:only-of-type {\n",
       "        vertical-align: middle;\n",
       "    }\n",
       "\n",
       "    .dataframe tbody tr th {\n",
       "        vertical-align: top;\n",
       "    }\n",
       "\n",
       "    .dataframe thead th {\n",
       "        text-align: right;\n",
       "    }\n",
       "</style>\n",
       "<table border=\"1\" class=\"dataframe\">\n",
       "  <thead>\n",
       "    <tr style=\"text-align: right;\">\n",
       "      <th></th>\n",
       "      <th>file name</th>\n",
       "      <th>label</th>\n",
       "    </tr>\n",
       "  </thead>\n",
       "  <tbody>\n",
       "    <tr>\n",
       "      <th>0</th>\n",
       "      <td>../datasets/example\\cat.0.jpg</td>\n",
       "      <td>cat</td>\n",
       "    </tr>\n",
       "    <tr>\n",
       "      <th>1</th>\n",
       "      <td>../datasets/example\\cat.1.jpg</td>\n",
       "      <td>cat</td>\n",
       "    </tr>\n",
       "    <tr>\n",
       "      <th>2</th>\n",
       "      <td>../datasets/example\\cat.10.jpg</td>\n",
       "      <td>cat</td>\n",
       "    </tr>\n",
       "    <tr>\n",
       "      <th>3</th>\n",
       "      <td>../datasets/example\\cat.2.jpg</td>\n",
       "      <td>cat</td>\n",
       "    </tr>\n",
       "    <tr>\n",
       "      <th>4</th>\n",
       "      <td>../datasets/example\\cat.3.jpg</td>\n",
       "      <td>cat</td>\n",
       "    </tr>\n",
       "  </tbody>\n",
       "</table>\n",
       "</div>"
      ],
      "text/plain": [
       "                        file name label\n",
       "0   ../datasets/example\\cat.0.jpg   cat\n",
       "1   ../datasets/example\\cat.1.jpg   cat\n",
       "2  ../datasets/example\\cat.10.jpg   cat\n",
       "3   ../datasets/example\\cat.2.jpg   cat\n",
       "4   ../datasets/example\\cat.3.jpg   cat"
      ]
     },
     "execution_count": 8,
     "metadata": {},
     "output_type": "execute_result"
    }
   ],
   "source": [
    "df.head()"
   ]
  },
  {
   "cell_type": "code",
   "execution_count": 9,
   "id": "ecbd7ba5-fde9-46fe-be45-22052aff18ff",
   "metadata": {},
   "outputs": [],
   "source": [
    "datagen = ImageDataGenerator(\n",
    "        rotation_range=40,\n",
    "        width_shift_range=0.2,\n",
    "        height_shift_range=0.2,\n",
    "        rescale=1./255,\n",
    "        shear_range=0.2,\n",
    "        zoom_range=0.2,\n",
    "        horizontal_flip=True,\n",
    "        fill_mode='nearest'\n",
    ")"
   ]
  },
  {
   "cell_type": "code",
   "execution_count": 10,
   "id": "350cb6f1-3c27-42a0-ad4a-48cb6e40360b",
   "metadata": {},
   "outputs": [
    {
     "name": "stdout",
     "output_type": "stream",
     "text": [
      "Found 21 validated image filenames belonging to 2 classes.\n"
     ]
    }
   ],
   "source": [
    "train_data_generator = datagen.flow_from_dataframe(\n",
    "    dataframe=df,\n",
    "    x_col=\"file name\",\n",
    "    y_col=\"label\",\n",
    "    subset=\"training\",\n",
    "    batch_size=2,\n",
    "    seed=42,\n",
    "    shuffle=True,\n",
    "    class_mode=\"categorical\",\n",
    "    target_size = (32,32)\n",
    ")"
   ]
  }
 ],
 "metadata": {
  "kernelspec": {
   "display_name": "venv-dogs-vs-cats",
   "language": "python",
   "name": "venv-dogs-vs-cats"
  },
  "language_info": {
   "codemirror_mode": {
    "name": "ipython",
    "version": 3
   },
   "file_extension": ".py",
   "mimetype": "text/x-python",
   "name": "python",
   "nbconvert_exporter": "python",
   "pygments_lexer": "ipython3",
   "version": "3.7.7"
  }
 },
 "nbformat": 4,
 "nbformat_minor": 5
}
