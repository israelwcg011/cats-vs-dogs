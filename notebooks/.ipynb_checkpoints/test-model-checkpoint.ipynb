{
 "cells": [
  {
   "cell_type": "markdown",
   "id": "bf3f21e9-90b1-4d43-a31c-4d32450072bd",
   "metadata": {},
   "source": [
    "### Imports"
   ]
  },
  {
   "cell_type": "code",
   "execution_count": 1,
   "id": "1c50ea3c-ab9e-458e-ab18-01a77d08e955",
   "metadata": {},
   "outputs": [],
   "source": [
    "import tensorflow as tf\n",
    "from keras.models import load_model\n",
    "from PIL import Image\n",
    "import numpy as np"
   ]
  },
  {
   "cell_type": "markdown",
   "id": "d2bab17c-aed0-45b5-b1f7-83254c9f7bab",
   "metadata": {},
   "source": [
    "### Functions and parameters"
   ]
  },
  {
   "cell_type": "code",
   "execution_count": 2,
   "id": "51864092-ef55-4411-b1a5-3af967ee39ea",
   "metadata": {},
   "outputs": [],
   "source": [
    "IMAGE_WIDTH = 128\n",
    "IMAGE_HEIGHT = 128\n",
    "IMAGE_CHANNELS = 3\n",
    "IMAGE_SHAPE = (IMAGE_WIDTH, IMAGE_HEIGHT)"
   ]
  },
  {
   "cell_type": "code",
   "execution_count": 3,
   "id": "a923eed3-2c6f-494d-8dc6-7773460796b4",
   "metadata": {},
   "outputs": [],
   "source": [
    "# function to prepare new images\n",
    "def prepare_image(image_path):\n",
    "    im = Image.open(image_path)\n",
    "    im = im.resize(IMAGE_SHAPE)\n",
    "    im = np.expand_dims(im, axis=0)\n",
    "    im = np.array(im)\n",
    "    im = im / 255\n",
    "    return im"
   ]
  },
  {
   "cell_type": "markdown",
   "id": "d1947b48-b5a9-4ccd-b53b-9c12a7ba86b8",
   "metadata": {},
   "source": [
    "### Load saved model"
   ]
  },
  {
   "cell_type": "code",
   "execution_count": 4,
   "id": "2947ca7d-72d3-4d86-aa18-be42d8b784cd",
   "metadata": {},
   "outputs": [],
   "source": [
    "model = load_model(\"../backend/models/cats_vs_dogs_model_2.h5\")"
   ]
  },
  {
   "cell_type": "markdown",
   "id": "7d7f9800-81e0-4d43-bc4e-32198c41f091",
   "metadata": {},
   "source": [
    "### Make some predictions"
   ]
  },
  {
   "cell_type": "code",
   "execution_count": 5,
   "id": "bf87b63e-95fd-46ae-8763-74e0cc250a52",
   "metadata": {},
   "outputs": [],
   "source": [
    "def identify(image_path):\n",
    "    animal = {0: \"Cat\", 1: \"Dog\"}\n",
    "    image = prepare_image(image_path)\n",
    "    prediction = model.predict([image])[0]\n",
    "    index = np.where(prediction == np.max(prediction))[0][0]\n",
    "    return animal[index]"
   ]
  },
  {
   "cell_type": "code",
   "execution_count": 6,
   "id": "c00509d0-73ba-4492-ade5-d808b77ca13e",
   "metadata": {},
   "outputs": [
    {
     "data": {
      "text/plain": [
       "'Cat'"
      ]
     },
     "execution_count": 6,
     "metadata": {},
     "output_type": "execute_result"
    }
   ],
   "source": [
    "identify(\"../datasets/test/61.jpg\")"
   ]
  }
 ],
 "metadata": {
  "kernelspec": {
   "display_name": "venv-dogs-vs-cats",
   "language": "python",
   "name": "venv-dogs-vs-cats"
  },
  "language_info": {
   "codemirror_mode": {
    "name": "ipython",
    "version": 3
   },
   "file_extension": ".py",
   "mimetype": "text/x-python",
   "name": "python",
   "nbconvert_exporter": "python",
   "pygments_lexer": "ipython3",
   "version": "3.7.7"
  }
 },
 "nbformat": 4,
 "nbformat_minor": 5
}
