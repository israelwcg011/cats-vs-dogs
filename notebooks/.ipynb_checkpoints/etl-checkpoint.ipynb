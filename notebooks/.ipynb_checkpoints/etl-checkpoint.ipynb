{
 "cells": [
  {
   "cell_type": "markdown",
   "id": "123d9866-9367-4ed3-ba21-20d2fb67228f",
   "metadata": {},
   "source": [
    "# Libraries"
   ]
  },
  {
   "cell_type": "code",
   "execution_count": 4,
   "id": "69c72755-1003-4f8a-b418-8d16cd6459fa",
   "metadata": {},
   "outputs": [],
   "source": [
    "import glob\n",
    "import pandas as pd\n",
    "import numpy as np"
   ]
  },
  {
   "cell_type": "markdown",
   "id": "44c218b2-f11c-427a-8ae0-f2d0d733b727",
   "metadata": {},
   "source": [
    "# Files used to train the deep learning model"
   ]
  },
  {
   "cell_type": "code",
   "execution_count": 5,
   "id": "b014ff93-d600-44bf-a3df-93327312ab4a",
   "metadata": {},
   "outputs": [],
   "source": [
    "files = glob.glob(\"../datasets/train/*.jpg\")"
   ]
  },
  {
   "cell_type": "markdown",
   "id": "ec517eb8-46be-435a-b9da-9a1d65512263",
   "metadata": {},
   "source": [
    "## Create a dataframe with inputs and correct labels"
   ]
  },
  {
   "cell_type": "code",
   "execution_count": 8,
   "id": "e933dfc1-7dbe-4d53-84ef-6851bd47e53d",
   "metadata": {},
   "outputs": [],
   "source": [
    "images_addresses = []\n",
    "images_labels = []\n",
    "\n",
    "for file_address in files:\n",
    "    images_addresses.append(file_address)\n",
    "    if \"cat\" in file_address:\n",
    "        images_labels.append(0)\n",
    "    else:\n",
    "        images_labels.append(1)"
   ]
  },
  {
   "cell_type": "code",
   "execution_count": 12,
   "id": "5c2d4687-3b17-4742-b3a9-e2a564dfff89",
   "metadata": {},
   "outputs": [],
   "source": [
    "data = {\n",
    "    \"image address\": x_train,\n",
    "    \"label\": y_train\n",
    "}"
   ]
  },
  {
   "cell_type": "code",
   "execution_count": 13,
   "id": "9c4efde7-e482-46e2-8cbb-e8701a98cbe3",
   "metadata": {},
   "outputs": [],
   "source": [
    "df = pd.DataFrame.from_dict(data)"
   ]
  }
 ],
 "metadata": {
  "kernelspec": {
   "display_name": "venv-dogs-vs-cats",
   "language": "python",
   "name": "venv-dogs-vs-cats"
  },
  "language_info": {
   "codemirror_mode": {
    "name": "ipython",
    "version": 3
   },
   "file_extension": ".py",
   "mimetype": "text/x-python",
   "name": "python",
   "nbconvert_exporter": "python",
   "pygments_lexer": "ipython3",
   "version": "3.7.7"
  }
 },
 "nbformat": 4,
 "nbformat_minor": 5
}
